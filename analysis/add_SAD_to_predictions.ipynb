{
 "cells": [
  {
   "cell_type": "code",
   "execution_count": 51,
   "metadata": {},
   "outputs": [],
   "source": [
    "import os\n",
    "import numpy as np\n",
    "import os.path as osp\n",
    "import pandas as pd\n",
    "import seaborn as sns\n",
    "from matplotlib import pyplot as plt\n",
    "from pathlib import Path\n",
    "from collections import Counter\n",
    "\n",
    "from itertools import groupby\n",
    "from operator import itemgetter\n",
    "\n",
    "from matplotlib.pyplot import MultipleLocator"
   ]
  },
  {
   "cell_type": "code",
   "execution_count": null,
   "metadata": {},
   "outputs": [],
   "source": [
    "internal_data_pths = [\n",
    "                      './datasets/LN_classify/Fudan_HN_LN_22-23_RAD/Fudan_HN_LN_230508_patches',\n",
    "                      './datasets/LN_classify/Fudan_HN_LN_22-23_RAD/Fudan_HN_LN_20231204_patches',\n",
    "                    # '/nas/xxxxx/datasets/LN_classify/Fudan_HN_LN_22-23_all/Fudan_HN_LN_220528_patches', \n",
    "                      ]\n",
    "\n",
    "external_data_pths = ['./datasets/LN_classify/Fudan_HN_LN_22-23_RAD/CGMH/CGMH_2024_patches',\n",
    "                      './datasets/LN_classify/Fudan_HN_LN_22-23_RAD/TCGA/TCGA-HNSC_selected_patches',\n",
    "                      './datasets/LN_classify/Fudan_HN_LN_22-23_RAD/TCGA/TCGA-fixed-RAD_patches',\n",
    "                      './datasets/LN_classify/Fudan_HN_LN_22-23_RAD/CGMH_Oral/CGMH_Oral_patches',\n",
    "                      ]\n",
    "\n",
    "src_root = \"./exps/Fudan_HN_LN_paper/final_results\"\n",
    "trg_path = \"./Desktop/HN_LN_paper_res_250521_recist\""
   ]
  },
  {
   "cell_type": "code",
   "execution_count": 53,
   "metadata": {},
   "outputs": [],
   "source": [
    "name_to_sad = {}\n",
    "for data_idx, crop_pth in enumerate(internal_data_pths + external_data_pths):\n",
    "    cropfile = osp.join(crop_pth, \"cropping_list.csv\")\n",
    "    df = pd.read_csv(cropfile)\n",
    "    for idx, row in df.iterrows():\n",
    "        name_to_sad[row['basename'].lower()] = float(row['recist'])"
   ]
  },
  {
   "cell_type": "code",
   "execution_count": 54,
   "metadata": {},
   "outputs": [],
   "source": [
    "for r in range(5):\n",
    "    for fd in range(5):\n",
    "        subdir = \"RUN{}/fold{}/RAD_response_add_EENT_TCGA/mobilenetv3_large_25d_fudan_hn_ln_bce_loss_dual_maxpool_ENE\".format(r, fd)\n",
    "        pred_pth = osp.join(src_root, subdir, \"predictions.txt\")\n",
    "        newlines = []\n",
    "        with open(pred_pth, \"r\") as f:\n",
    "            lines = f.readlines()\n",
    "            for l in lines:\n",
    "                l = l.rstrip()\n",
    "                casename_w_label = l.split(',')[0].replace('ext_', '').replace('renji_', '').replace('radadded_', '').replace(\"xm_\", '').replace(\"p2_\", \"\").replace(\"p2-2_\", \"\").replace(\"p2-3_\", \"\")\n",
    "                casename = casename_w_label.replace('_neg', '').replace('_pos', '').replace('_ene', '').lower()\n",
    "                if casename not in name_to_sad:\n",
    "                    print(\"Error: no matched RECIST record for case {}\".format(casename))\n",
    "                    continue\n",
    "                sad = name_to_sad[casename]\n",
    "                newlines.append(l + \",{}\".format(sad))\n",
    "        with open(osp.join(trg_path, \"RUN{}-fold{}-predictions.txt\".format(r, fd)), \"w\") as f:\n",
    "            for l in newlines:\n",
    "                f.write(l + \"\\n\")"
   ]
  }
 ],
 "metadata": {
  "kernelspec": {
   "display_name": "rtnet_py37",
   "language": "python",
   "name": "python3"
  },
  "language_info": {
   "codemirror_mode": {
    "name": "ipython",
    "version": 3
   },
   "file_extension": ".py",
   "mimetype": "text/x-python",
   "name": "python",
   "nbconvert_exporter": "python",
   "pygments_lexer": "ipython3",
   "version": "3.7.13"
  }
 },
 "nbformat": 4,
 "nbformat_minor": 2
}
